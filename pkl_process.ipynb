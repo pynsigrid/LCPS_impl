{
 "cells": [
  {
   "cell_type": "code",
   "execution_count": 18,
   "metadata": {},
   "outputs": [
    {
     "data": {
      "text/plain": [
       "(dict_keys(['lidar_path', 'token', 'sweeps', 'cams', 'lidar2ego_translation', 'lidar2ego_rotation', 'ego2global_translation', 'ego2global_rotation', 'timestamp', 'gt_boxes', 'gt_names', 'gt_velocity', 'num_lidar_pts', 'num_radar_pts']),\n",
       " dict_keys(['sample_idx', 'token', 'timestamp', 'ego2global', 'images', 'lidar_points', 'instances', 'cam_instances', 'pts_semantic_mask_path', 'pts_panoptic_mask_path']))"
      ]
     },
     "execution_count": 18,
     "metadata": {},
     "output_type": "execute_result"
    }
   ],
   "source": [
    "# load pkl\n",
    "import os\n",
    "import pickle\n",
    "import numpy as np\n",
    "\n",
    "pkl_lcps = 'data/nuscenes/pkl_files_LCPS/nuscenes_infos_train.pkl'\n",
    "pkl_ial  = 'data/nuscenes/nuscenes_infos_train.pkl'\n",
    "with open(pkl_lcps, 'rb') as f:\n",
    "    pkl_lcps = pickle.load(f)\n",
    "with open(pkl_ial, 'rb') as f:\n",
    "    pkl_ial = pickle.load(f)\n",
    "    \n",
    "pkl_lcps['infos'][0].keys(), pkl_ial['data_list'][0].keys()"
   ]
  },
  {
   "cell_type": "code",
   "execution_count": 19,
   "metadata": {},
   "outputs": [
    {
     "name": "stdout",
     "output_type": "stream",
     "text": [
      "done\n"
     ]
    }
   ],
   "source": [
    "# write pkl_ial['data_list'][i]['images'] to pkl_lcps['infos'][i]['images']\n",
    "assert len(pkl_lcps['infos']) == len(pkl_ial['data_list'])\n",
    "for i in range(len(pkl_ial['data_list'])):\n",
    "    pkl_lcps['infos'][i]['images'] = pkl_ial['data_list'][i]['images']\n",
    "\n",
    "# save to new pkl\n",
    "with open('data/nuscenes/pkl_files_LCPS/nuscenes_infos_val_train.pkl', 'wb') as f:\n",
    "    pickle.dump(pkl_lcps, f)\n",
    "print('done')"
   ]
  },
  {
   "cell_type": "code",
   "execution_count": 15,
   "metadata": {},
   "outputs": [
    {
     "data": {
      "text/plain": [
       "dict_keys(['img_path', 'cam2img', 'cam2ego', 'sample_data_token', 'timestamp', 'lidar2cam'])"
      ]
     },
     "execution_count": 15,
     "metadata": {},
     "output_type": "execute_result"
    }
   ],
   "source": [
    "pkl_lcps['infos'][i]['images']['CAM_FRONT'].keys()"
   ]
  },
  {
   "cell_type": "code",
   "execution_count": null,
   "metadata": {},
   "outputs": [],
   "source": []
  }
 ],
 "metadata": {
  "kernelspec": {
   "display_name": "p3former",
   "language": "python",
   "name": "python3"
  },
  "language_info": {
   "codemirror_mode": {
    "name": "ipython",
    "version": 3
   },
   "file_extension": ".py",
   "mimetype": "text/x-python",
   "name": "python",
   "nbconvert_exporter": "python",
   "pygments_lexer": "ipython3",
   "version": "3.8.0"
  }
 },
 "nbformat": 4,
 "nbformat_minor": 2
}
